# Import necessary libraries
import numpy as np
import pandas as pd
import matplotlib.pyplot as plt
import seaborn as sns
import xgboost as xgb
from sklearn.model_selection import train_test_split
from sklearn.metrics import accuracy_score, classification_report, confusion_matrix
from sklearn.preprocessing import OneHotEncoder
import sqlite3

# Connect to SQLite database (creates crop.db if it doesn't exist)
conn = sqlite3.connect('crop.db')
cursor = conn.cursor()

# Create table if it doesn't exist
cursor.execute("""
CREATE TABLE IF NOT EXISTS crop_data (
    id INTEGER PRIMARY KEY AUTOINCREMENT,
    N INTEGER,
    P INTEGER,
    K INTEGER,
    temperature REAL,
    humidity REAL,
    ph REAL,
    rainfall REAL,
    label TEXT
)
""")
conn.commit()

# If the database is empty, you can run this ONCE to upload CSV data
# data = pd.read_csv("Croprecommendation.csv")
# data.to_sql("crop_data", conn, if_exists="replace", index=False)

# Load data from SQLite database into pandas DataFrame
crop = pd.read_sql_query(
    "SELECT N, P, K, temperature, humidity, ph, rainfall, label FROM crop_data", conn
)

# Data exploration and preprocessing
print(crop.head())
print(crop.info())
print(crop.describe())

# Encode target label for sklearn
crop['label'] = crop['label'].astype('category')
y = crop['label'].cat.codes
X = crop.drop(['label'], axis=1)

# Split data
X_train, X_test, y_train, y_test = train_test_split(X, y, test_size=0.2, random_state=2347)

# Model training with XGBoost
model = xgb.XGBClassifier(
    objective='multi:softmax',
    num_class=len(np.unique(y)),
    learning_rate=0.01,
    max_depth=6,
    n_estimators=100,
    seed=42
)
model.fit(X_train, y_train)

# Predictions and evaluation
y_pred = model.predict(X_test)
accuracy = accuracy_score(y_test, y_pred)
print(f"Accuracy is {accuracy * 100:.2f}")

# Function for crop recommendation and database storage
def croprecommendation(N, P, K, temp, hum, ph_val, rain):
    feature = np.array([N, P, K, temp, hum, ph_val, rain])
    prediction = model.predict(feature.reshape(1, -1))[0]
    crop_dict = dict(enumerate(crop['label'].cat.categories))
    predicted_crop = crop_dict[prediction]
    
    # Insert input and result into database
    cursor.execute("""
        INSERT INTO crop_data (N, P, K, temperature, humidity, ph, rainfall, label)
        VALUES (?, ?, ?, ?, ?, ?, ?, ?)
    """, (N, P, K, temp, hum, ph_val, rain, predicted_crop))
    conn.commit()
    
    return f"{predicted_crop} is the best crop to grow in the farm."

# Example usage: recommend and log to DB
result = croprecommendation(90, 45, 43, 20, 82, 6.1, 202)
print(result)

# At the end of notebook, close connection to the database
cursor.close()
conn.close()
